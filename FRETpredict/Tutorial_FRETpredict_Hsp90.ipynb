{
 "cells": [
  {
   "cell_type": "markdown",
   "id": "d05f6403",
   "metadata": {},
   "source": [
    "# FRETpredict tutorial (Hsp90)"
   ]
  },
  {
   "cell_type": "code",
   "execution_count": 1,
   "id": "8f0eaeed",
   "metadata": {},
   "outputs": [],
   "source": [
    "import MDAnalysis\n",
    "import numpy as np\n",
    "%matplotlib inline\n",
    "import matplotlib.pyplot as plt\n",
    "import matplotlib as mpl\n",
    "import os\n",
    "import pandas as pd\n",
    "import seaborn as sns\n",
    "from FRET import FRETpredict\n",
    "import warnings\n",
    "\n",
    "warnings.filterwarnings('ignore')"
   ]
  },
  {
   "cell_type": "markdown",
   "id": "87cd9f72",
   "metadata": {},
   "source": [
    "### Biological background"
   ]
  },
  {
   "cell_type": "markdown",
   "id": "c773bea2",
   "metadata": {},
   "source": [
    "Cartoon representation of the open structure of Hsp90 (apoprotein). Chains A and B are colored in red and blue, respectively. On each chain, the residues that will be used for FRET Efficiency calculations are represented as spheres."
   ]
  },
  {
   "cell_type": "markdown",
   "id": "d8cbcb0b",
   "metadata": {},
   "source": [
    "![title](Hsp90_chains.png)"
   ]
  },
  {
   "cell_type": "markdown",
   "id": "bf5ecdea",
   "metadata": {},
   "source": [
    "Closed structure of Hsp90 (Holo protein, with ATP)"
   ]
  },
  {
   "cell_type": "markdown",
   "id": "9a87002e",
   "metadata": {},
   "source": [
    "![title](Hsp90_closed_chains.png)"
   ]
  },
  {
   "cell_type": "markdown",
   "id": "b71c73ad",
   "metadata": {},
   "source": [
    "## Single protein structure (Hsp90)"
   ]
  },
  {
   "cell_type": "markdown",
   "id": "ae3c86de",
   "metadata": {},
   "source": [
    "In this part of the tutorial, we will perform FRET Efficiency calculations using only a single residue pair to put the rotamer libraries on."
   ]
  },
  {
   "cell_type": "markdown",
   "id": "ff2d7ef0",
   "metadata": {},
   "source": [
    "Select residues to put the rotamer libraries on and the corresponding experimental data file."
   ]
  },
  {
   "cell_type": "code",
   "execution_count": 2,
   "id": "6fc11f8b",
   "metadata": {},
   "outputs": [],
   "source": [
    "res1 = 452\n",
    "chain_res1 = 'A'\n",
    "chromophore_1 = 532\n",
    "\n",
    "res2 = 637\n",
    "chain_res2 = 'B'\n",
    "chromophore_2 = 647\n",
    "\n",
    "# Experimental data to compare our predictions.\n",
    "exp_data_file = '452_532_637_647N_APO.txt'"
   ]
  },
  {
   "cell_type": "markdown",
   "id": "829ff625",
   "metadata": {},
   "source": [
    "Create MDAnalysis.Universe object for the protein (open Hsp90)"
   ]
  },
  {
   "cell_type": "code",
   "execution_count": 3,
   "id": "15dc3c53",
   "metadata": {},
   "outputs": [],
   "source": [
    "u = MDAnalysis.Universe('test_systems/Hsp90/openHsp90.pdb')"
   ]
  },
  {
   "cell_type": "markdown",
   "id": "94cb7928",
   "metadata": {},
   "source": [
    "Create instance of the FRETpredict class"
   ]
  },
  {
   "cell_type": "code",
   "execution_count": 4,
   "id": "b2b5f89d",
   "metadata": {},
   "outputs": [],
   "source": [
    "# Clustering cutoff used for the creation of the rotamer library. It can be 10, 20, or 30.\n",
    "cutoff = 10\n",
    "\n",
    "FRET = FRETpredict(protein=u, residues=[res1, res2], temperature=293, \n",
    "                   chains=[chain_res1, chain_res2], \n",
    "                   donor=chromophore_1, acceptor=chromophore_2, electrostatic=True,\n",
    "                   libname_1='Alexa {} cutoff{:d}'.format(chromophore_1, cutoff),\n",
    "                   libname_2='Alexa {} cutoff{:d}'.format(chromophore_2, cutoff), \n",
    "                   output_prefix='tutorials/test/E{:d}'.format(cutoff))"
   ]
  },
  {
   "cell_type": "markdown",
   "id": "744de18d",
   "metadata": {},
   "source": [
    "Run FRET efficiency calculations"
   ]
  },
  {
   "cell_type": "code",
   "execution_count": 5,
   "id": "7f7c63ed",
   "metadata": {},
   "outputs": [],
   "source": [
    "FRET.run()"
   ]
  },
  {
   "cell_type": "markdown",
   "id": "2774d116",
   "metadata": {},
   "source": [
    "Retrieve experimental data from file for the comparison"
   ]
  },
  {
   "cell_type": "code",
   "execution_count": 6,
   "id": "f39a8a05",
   "metadata": {},
   "outputs": [],
   "source": [
    "filename = 'test_systems/Hsp90/MDA/histograms/{}'.format(exp_data_file)\n",
    "\n",
    "if os.path.isfile(filename):\n",
    "    \n",
    "        df = pd.read_csv(filename, skiprows=6, nrows=40, header=None, sep='\\s+')\n",
    "        Ex = np.average(df[0], weights=df[1])"
   ]
  },
  {
   "cell_type": "markdown",
   "id": "9067bd39",
   "metadata": {},
   "source": [
    "Create DataFrame of the data "
   ]
  },
  {
   "cell_type": "code",
   "execution_count": 7,
   "id": "3845e162",
   "metadata": {},
   "outputs": [],
   "source": [
    "results = []\n",
    "\n",
    "data = pd.read_pickle(r'tutorials/test/E{:d}-data-{:d}-{:d}.pkl'.format(cutoff, res1, res2))\n",
    "results.append({'res': '{:d}-{:d}'.format(res1, res2),\n",
    "                'k2': float(data.loc['k2']),\n",
    "                'Ex': Ex,\n",
    "                'Es': float(data.loc['Estatic']),\n",
    "                'Ed': float(data.loc['Edynamic1']),\n",
    "                'Ed2': float(data.loc['Edynamic2']),\n",
    "                'diffS': np.abs(Ex-data.loc['Estatic']),\n",
    "                'diffD': np.abs(Ex-data.loc['Edynamic1']), \n",
    "                'diffD2': np.abs(Ex-data.loc['Edynamic2'])})\n",
    "        \n",
    "results_df = pd.DataFrame(results).set_index('res')"
   ]
  },
  {
   "cell_type": "code",
   "execution_count": 8,
   "id": "34b018fc",
   "metadata": {},
   "outputs": [
    {
     "data": {
      "text/html": [
       "<div>\n",
       "<style scoped>\n",
       "    .dataframe tbody tr th:only-of-type {\n",
       "        vertical-align: middle;\n",
       "    }\n",
       "\n",
       "    .dataframe tbody tr th {\n",
       "        vertical-align: top;\n",
       "    }\n",
       "\n",
       "    .dataframe thead th {\n",
       "        text-align: right;\n",
       "    }\n",
       "</style>\n",
       "<table border=\"1\" class=\"dataframe\">\n",
       "  <thead>\n",
       "    <tr style=\"text-align: right;\">\n",
       "      <th></th>\n",
       "      <th>conformation</th>\n",
       "      <th>k2</th>\n",
       "      <th>Ex</th>\n",
       "      <th>Es</th>\n",
       "      <th>Ed</th>\n",
       "      <th>Ed2</th>\n",
       "      <th>chi2S</th>\n",
       "      <th>chi2D</th>\n",
       "      <th>chi2D2</th>\n",
       "    </tr>\n",
       "    <tr>\n",
       "      <th>res</th>\n",
       "      <th></th>\n",
       "      <th></th>\n",
       "      <th></th>\n",
       "      <th></th>\n",
       "      <th></th>\n",
       "      <th></th>\n",
       "      <th></th>\n",
       "      <th></th>\n",
       "      <th></th>\n",
       "    </tr>\n",
       "  </thead>\n",
       "  <tbody>\n",
       "    <tr>\n",
       "      <th>452-637</th>\n",
       "      <td>open</td>\n",
       "      <td>0.936203</td>\n",
       "      <td>0.592377</td>\n",
       "      <td>0.72088</td>\n",
       "      <td>0.948272</td>\n",
       "      <td>0.985024</td>\n",
       "      <td>0.128502</td>\n",
       "      <td>0.355895</td>\n",
       "      <td>0.392647</td>\n",
       "    </tr>\n",
       "  </tbody>\n",
       "</table>\n",
       "</div>"
      ],
      "text/plain": [
       "        conformation        k2        Ex       Es        Ed       Ed2  \\\n",
       "res                                                                     \n",
       "452-637         open  0.936203  0.592377  0.72088  0.948272  0.985024   \n",
       "\n",
       "            chi2S     chi2D    chi2D2  \n",
       "res                                    \n",
       "452-637  0.128502  0.355895  0.392647  "
      ]
     },
     "execution_count": 8,
     "metadata": {},
     "output_type": "execute_result"
    }
   ],
   "source": [
    "# Show results\n",
    "results_df"
   ]
  },
  {
   "cell_type": "markdown",
   "id": "6f4faf9f",
   "metadata": {},
   "source": [
    "**For single frame or structures predictions, the best averaging method is \"Static\" (Es).**"
   ]
  },
  {
   "cell_type": "markdown",
   "id": "d08d7fa6",
   "metadata": {},
   "source": [
    "## Protein trajectory (open conformations)"
   ]
  },
  {
   "cell_type": "markdown",
   "id": "0f38d35e",
   "metadata": {},
   "source": [
    "Select residues to put the rotamer libraries on and the corresponding experimental data file."
   ]
  },
  {
   "cell_type": "code",
   "execution_count": 15,
   "id": "3d923b27",
   "metadata": {},
   "outputs": [],
   "source": [
    "res1 = 452\n",
    "chain_res1 = 'A'\n",
    "chromophore_1 = 532\n",
    "\n",
    "res2 = 637\n",
    "chain_res2 = 'B'\n",
    "chromophore_2 = 647\n",
    "\n",
    "# Experimental data to compare our predictions.\n",
    "exp_data_file = '452_532_637_647N_APO.txt'"
   ]
  },
  {
   "cell_type": "markdown",
   "id": "cb951b9b",
   "metadata": {},
   "source": [
    "Create universe for protein trajectory (3 different open conformations of Hsp90)."
   ]
  },
  {
   "cell_type": "code",
   "execution_count": 16,
   "id": "382b9ca3",
   "metadata": {},
   "outputs": [],
   "source": [
    "u_traj = MDAnalysis.Universe('test_systems/Hsp90/conf.pdb', \n",
    "                             'test_systems/Hsp90/Hsp90_open_all.xtc')"
   ]
  },
  {
   "cell_type": "markdown",
   "id": "52d28749",
   "metadata": {},
   "source": [
    "Create instance of the FRETpredict class"
   ]
  },
  {
   "cell_type": "code",
   "execution_count": 17,
   "id": "ae49cd5e",
   "metadata": {},
   "outputs": [],
   "source": [
    "# Clustering cutoff used for the creation of the rotamer library. It can be 10, 20, or 30.\n",
    "cutoff = 10\n",
    "\n",
    "FRET = FRETpredict(protein=u_traj, residues=[res1, res2], temperature=293, \n",
    "                   chains=[chain_res1, chain_res2], \n",
    "                   donor=chromophore_1, acceptor=chromophore_2,\n",
    "                   electrostatic=True,\n",
    "                   libname_1='Alexa {} cutoff{:d}'.format(chromophore_1, cutoff),\n",
    "                   libname_2='Alexa {} cutoff{:d}'.format(chromophore_2, cutoff), \n",
    "                   output_prefix='tutorials/test/E{:d}_traj'.format(cutoff))"
   ]
  },
  {
   "cell_type": "markdown",
   "id": "a3c2f350",
   "metadata": {},
   "source": [
    "Run FRET Efficiency calculations"
   ]
  },
  {
   "cell_type": "code",
   "execution_count": 18,
   "id": "3c57702b",
   "metadata": {},
   "outputs": [],
   "source": [
    "FRET.run()"
   ]
  },
  {
   "cell_type": "markdown",
   "id": "87920b18",
   "metadata": {},
   "source": [
    "Retrieve experimental data from file for the comparison"
   ]
  },
  {
   "cell_type": "code",
   "execution_count": 19,
   "id": "13ebf35f",
   "metadata": {},
   "outputs": [],
   "source": [
    "filename = 'test_systems/Hsp90/MDA/histograms/{}'.format(exp_data_file)\n",
    "\n",
    "if os.path.isfile(filename):\n",
    "\n",
    "        df = pd.read_csv(filename, skiprows=6, nrows=40, header=None, sep='\\s+')\n",
    "        Ex = np.average(df[0], weights=df[1])"
   ]
  },
  {
   "cell_type": "markdown",
   "id": "be2c4db8",
   "metadata": {},
   "source": [
    "Create DataFrame for the data "
   ]
  },
  {
   "cell_type": "code",
   "execution_count": 20,
   "id": "298263d9",
   "metadata": {},
   "outputs": [],
   "source": [
    "results_traj = []\n",
    "\n",
    "data_traj = pd.read_pickle(r'test/E{:d}_traj-data-{:d}-{:d}.pkl'.format(cutoff, res1, res2))\n",
    "results_traj.append({'res': '{:d}-{:d}'.format(res1, res2),\n",
    "                     'k2': data_traj.loc['k2', 'Average'],\n",
    "                     'Ex': Ex,\n",
    "                     'Es': data_traj.loc['Estatic', 'Average'],\n",
    "                     'Ed': data_traj.loc['Edynamic1', 'Average'],\n",
    "                     'Ed2': data_traj.loc['Edynamic2', 'Average'],\n",
    "                     'diffS': np.abs(Ex-data_traj.loc['Estatic', 'Average']),\n",
    "                     'diffD': np.abs(Ex-data_traj.loc['Edynamic1', 'Average']), \n",
    "                     'diffD2': np.abs(Ex-data_traj.loc['Edynamic2', 'Average'])})\n",
    "        \n",
    "results_traj_df = pd.DataFrame(results_traj).set_index('res')"
   ]
  },
  {
   "cell_type": "code",
   "execution_count": 21,
   "id": "d69797cc",
   "metadata": {},
   "outputs": [
    {
     "data": {
      "text/html": [
       "<div>\n",
       "<style scoped>\n",
       "    .dataframe tbody tr th:only-of-type {\n",
       "        vertical-align: middle;\n",
       "    }\n",
       "\n",
       "    .dataframe tbody tr th {\n",
       "        vertical-align: top;\n",
       "    }\n",
       "\n",
       "    .dataframe thead th {\n",
       "        text-align: right;\n",
       "    }\n",
       "</style>\n",
       "<table border=\"1\" class=\"dataframe\">\n",
       "  <thead>\n",
       "    <tr style=\"text-align: right;\">\n",
       "      <th></th>\n",
       "      <th>conformation</th>\n",
       "      <th>k2</th>\n",
       "      <th>Ex</th>\n",
       "      <th>Es</th>\n",
       "      <th>Ed</th>\n",
       "      <th>Ed2</th>\n",
       "      <th>chi2S</th>\n",
       "      <th>chi2D</th>\n",
       "      <th>chi2D2</th>\n",
       "    </tr>\n",
       "    <tr>\n",
       "      <th>res</th>\n",
       "      <th></th>\n",
       "      <th></th>\n",
       "      <th></th>\n",
       "      <th></th>\n",
       "      <th></th>\n",
       "      <th></th>\n",
       "      <th></th>\n",
       "      <th></th>\n",
       "      <th></th>\n",
       "    </tr>\n",
       "  </thead>\n",
       "  <tbody>\n",
       "    <tr>\n",
       "      <th>452-637</th>\n",
       "      <td>open</td>\n",
       "      <td>0.901243</td>\n",
       "      <td>0.592377</td>\n",
       "      <td>0.783627</td>\n",
       "      <td>0.864143</td>\n",
       "      <td>0.882688</td>\n",
       "      <td>0.191249</td>\n",
       "      <td>0.271766</td>\n",
       "      <td>0.290311</td>\n",
       "    </tr>\n",
       "  </tbody>\n",
       "</table>\n",
       "</div>"
      ],
      "text/plain": [
       "        conformation        k2        Ex        Es        Ed       Ed2  \\\n",
       "res                                                                      \n",
       "452-637         open  0.901243  0.592377  0.783627  0.864143  0.882688   \n",
       "\n",
       "            chi2S     chi2D    chi2D2  \n",
       "res                                    \n",
       "452-637  0.191249  0.271766  0.290311  "
      ]
     },
     "execution_count": 21,
     "metadata": {},
     "output_type": "execute_result"
    }
   ],
   "source": [
    "# Show results\n",
    "results_traj_df"
   ]
  },
  {
   "cell_type": "markdown",
   "id": "2eed6a2b",
   "metadata": {},
   "source": [
    "**For trajectory data or multiple protein structures, the best averaging method is \"Dynamic2\" (Ed2)**"
   ]
  },
  {
   "cell_type": "code",
   "execution_count": null,
   "id": "ebe67120",
   "metadata": {},
   "outputs": [],
   "source": []
  }
 ],
 "metadata": {
  "kernelspec": {
   "display_name": "Python 3 (ipykernel)",
   "language": "python",
   "name": "python3"
  },
  "language_info": {
   "codemirror_mode": {
    "name": "ipython",
    "version": 3
   },
   "file_extension": ".py",
   "mimetype": "text/x-python",
   "name": "python",
   "nbconvert_exporter": "python",
   "pygments_lexer": "ipython3",
   "version": "3.9.7"
  }
 },
 "nbformat": 4,
 "nbformat_minor": 5
}
