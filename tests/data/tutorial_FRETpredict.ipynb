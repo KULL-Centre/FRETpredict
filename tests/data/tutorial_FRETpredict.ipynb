{
 "cells": [
  {
   "cell_type": "code",
   "execution_count": 1,
   "id": "8f0eaeed",
   "metadata": {},
   "outputs": [],
   "source": [
    "import MDAnalysis\n",
    "import numpy as np\n",
    "%matplotlib inline\n",
    "import matplotlib.pyplot as plt\n",
    "import matplotlib as mpl\n",
    "import os\n",
    "import pandas as pd\n",
    "import itertools\n",
    "from FRET import FRETpredict"
   ]
  },
  {
   "cell_type": "markdown",
   "id": "829ff625",
   "metadata": {},
   "source": [
    "Create MDAnalysis.Universe object for the protein"
   ]
  },
  {
   "cell_type": "code",
   "execution_count": 6,
   "id": "15dc3c53",
   "metadata": {},
   "outputs": [],
   "source": [
    "u = MDAnalysis.Universe('test_systems/Hsp90/average/conf.pdb')"
   ]
  },
  {
   "cell_type": "markdown",
   "id": "94cb7928",
   "metadata": {},
   "source": [
    "Create instance of the FRETpredict class"
   ]
  },
  {
   "cell_type": "code",
   "execution_count": 10,
   "id": "b2b5f89d",
   "metadata": {},
   "outputs": [],
   "source": [
    "cutoff = 10\n",
    "\n",
    "FRET = FRETpredict(protein=u, residues=[327, 409], temperature=293, chains=['A', 'A'], \n",
    "                   r0=5.4, sigma_scaling=0.95, epsilon_scaling=0.6,\n",
    "                   libname_1='Alexa 568 cutoff{:d}'.format(cutoff),\n",
    "                   libname_2='Alexa 568 cutoff{:d}'.format(cutoff))"
   ]
  },
  {
   "cell_type": "markdown",
   "id": "744de18d",
   "metadata": {},
   "source": [
    "Run FRET efficiency calculations, for every combination of the donor-acceptor rotamers on the single protein structure"
   ]
  },
  {
   "cell_type": "code",
   "execution_count": 16,
   "id": "7f7c63ed",
   "metadata": {},
   "outputs": [],
   "source": [
    "FRET.run(output_prefix='data/E{:d}_0.95_0.6'.format(cutoff))"
   ]
  },
  {
   "cell_type": "markdown",
   "id": "ab9d6fb5",
   "metadata": {},
   "source": [
    "Display results"
   ]
  },
  {
   "cell_type": "code",
   "execution_count": 17,
   "id": "6e938bc2",
   "metadata": {},
   "outputs": [
    {
     "name": "stdout",
     "output_type": "stream",
     "text": [
      "k2           1.0615710769388216\n",
      "Estatic       0.918723016823332\n",
      "Edynamic1    0.9715399418902673\n",
      "Edynamic2    0.9874220338412839\n",
      "dtype: object\n"
     ]
    }
   ],
   "source": [
    "fret_results = pd.read_pickle(r'res-data-327-409.pkl')\n",
    "print(fret_results)"
   ]
  },
  {
   "cell_type": "code",
   "execution_count": null,
   "id": "f39a8a05",
   "metadata": {},
   "outputs": [],
   "source": []
  }
 ],
 "metadata": {
  "kernelspec": {
   "display_name": "Python 3 (ipykernel)",
   "language": "python",
   "name": "python3"
  },
  "language_info": {
   "codemirror_mode": {
    "name": "ipython",
    "version": 3
   },
   "file_extension": ".py",
   "mimetype": "text/x-python",
   "name": "python",
   "nbconvert_exporter": "python",
   "pygments_lexer": "ipython3",
   "version": "3.9.7"
  }
 },
 "nbformat": 4,
 "nbformat_minor": 5
}
