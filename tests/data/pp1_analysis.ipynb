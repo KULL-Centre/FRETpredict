{
 "cells": [
  {
   "cell_type": "code",
   "execution_count": 1,
   "metadata": {},
   "outputs": [],
   "source": [
    "import MDAnalysis\n",
    "import numpy as np\n",
    "%matplotlib inline\n",
    "import matplotlib.pyplot as plt\n",
    "import matplotlib as mpl\n",
    "import os\n",
    "import pandas as pd\n",
    "import mdtraj as md\n",
    "from FRETpredict.FRET import FRETpredict\n",
    "import MDAnalysis.transformations as trans"
   ]
  },
  {
   "cell_type": "code",
   "execution_count": 2,
   "metadata": {},
   "outputs": [
    {
     "name": "stderr",
     "output_type": "stream",
     "text": [
      "/Users/giulio/miniconda3/envs/cg/lib/python3.7/site-packages/mdtraj/formats/pdb/pdbstructure.py:435: UserWarning: WARNING: two consecutive residues with same number (ATOM     81  N   GLY X   1       0.000   0.000   0.000  0.00  0.00              , ATOM     80  O   NT59X   1       0.030  -2.170  -0.000  0.00  0.00              )\n",
      "  warnings.warn(\"WARNING: two consecutive residues with same number (%s, %s)\" % (atom, self._current_residue.atoms[-1]))\n"
     ]
    }
   ],
   "source": [
    "t = md.load_xtc('FRET/pp11dyes_amber99sbwx1.15_box6.5_alt_npt_s1_whole.xtc',\n",
    "                'FRET/pp11dyes_amber99sbw_k2_box6.5_vac.pdb')\n",
    "t.atom_slice(t.top.select('resid 1 to 12'), inplace=True)\n",
    "top = md.Topology()\n",
    "chain = top.add_chain()\n",
    "for residue in t.top.residues:\n",
    "    res = top.add_residue(residue.name, chain, resSeq=residue.index)\n",
    "    for atom in residue.atoms:\n",
    "        top.add_atom(atom.name, element=atom.element, residue=res)\n",
    "allatom = md.Trajectory(t.xyz, top, t.time, np.full((t.n_frames,3),10), np.full((t.n_frames,3),90))\n",
    "allatom = allatom.center_coordinates()\n",
    "allatom.xyz += allatom.unitcell_lengths[0,0]/2\n",
    "allatom = allatom.superpose(allatom, frame=0)\n",
    "allatom[::1000].save_dcd('pp11.dcd')\n",
    "allatom[0].save_pdb('pp11.pdb')\n",
    "\n",
    "u = MDAnalysis.Universe('pp11.pdb',\n",
    "                        'pp11.dcd')"
   ]
  },
  {
   "cell_type": "code",
   "execution_count": 3,
   "metadata": {},
   "outputs": [
    {
     "data": {
      "text/plain": [
       "316"
      ]
     },
     "execution_count": 3,
     "metadata": {},
     "output_type": "execute_result"
    }
   ],
   "source": [
    "len(u.trajectory)"
   ]
  },
  {
   "cell_type": "code",
   "execution_count": 4,
   "metadata": {},
   "outputs": [],
   "source": [
    "cutoffs = np.array([50,75,100,150,200])"
   ]
  },
  {
   "cell_type": "code",
   "execution_count": 19,
   "metadata": {},
   "outputs": [
    {
     "name": "stderr",
     "output_type": "stream",
     "text": [
      "/Users/giulio/miniconda3/envs/cg/lib/python3.7/site-packages/MDAnalysis/topology/PDBParser.py:330: UserWarning: Element information is absent or missing for a few atoms. Elements attributes will not be populated.\n",
      "  warnings.warn(\"Element information is absent or missing for a few \"\n"
     ]
    },
    {
     "name": "stdout",
     "output_type": "stream",
     "text": [
      "316\n",
      "           Average     Error\n",
      "k2        0.624952  0.025857\n",
      "Estatic   0.613910  0.052853\n",
      "Edynamic  0.768199  0.052442\n"
     ]
    },
    {
     "name": "stderr",
     "output_type": "stream",
     "text": [
      "/Users/giulio/miniconda3/envs/cg/lib/python3.7/site-packages/MDAnalysis/topology/PDBParser.py:330: UserWarning: Element information is absent or missing for a few atoms. Elements attributes will not be populated.\n",
      "  warnings.warn(\"Element information is absent or missing for a few \"\n"
     ]
    },
    {
     "name": "stdout",
     "output_type": "stream",
     "text": [
      "316\n",
      "           Average     Error\n",
      "k2        0.665686  0.067916\n",
      "Estatic   0.660137  0.050988\n",
      "Edynamic  0.822057  0.043080\n"
     ]
    },
    {
     "name": "stderr",
     "output_type": "stream",
     "text": [
      "/Users/giulio/miniconda3/envs/cg/lib/python3.7/site-packages/MDAnalysis/topology/PDBParser.py:330: UserWarning: Element information is absent or missing for a few atoms. Elements attributes will not be populated.\n",
      "  warnings.warn(\"Element information is absent or missing for a few \"\n"
     ]
    },
    {
     "name": "stdout",
     "output_type": "stream",
     "text": [
      "316\n",
      "           Average     Error\n",
      "k2        0.730450  0.151781\n",
      "Estatic   0.633026  0.061730\n",
      "Edynamic  0.807866  0.058079\n"
     ]
    },
    {
     "name": "stderr",
     "output_type": "stream",
     "text": [
      "/Users/giulio/miniconda3/envs/cg/lib/python3.7/site-packages/MDAnalysis/topology/PDBParser.py:330: UserWarning: Element information is absent or missing for a few atoms. Elements attributes will not be populated.\n",
      "  warnings.warn(\"Element information is absent or missing for a few \"\n"
     ]
    },
    {
     "name": "stdout",
     "output_type": "stream",
     "text": [
      "278\n",
      "           Average     Error\n",
      "k2        1.219879  0.308374\n",
      "Estatic   0.814726  0.054915\n",
      "Edynamic  0.939760  0.015842\n"
     ]
    },
    {
     "name": "stderr",
     "output_type": "stream",
     "text": [
      "/Users/giulio/miniconda3/envs/cg/lib/python3.7/site-packages/MDAnalysis/topology/PDBParser.py:330: UserWarning: Element information is absent or missing for a few atoms. Elements attributes will not be populated.\n",
      "  warnings.warn(\"Element information is absent or missing for a few \"\n"
     ]
    },
    {
     "name": "stdout",
     "output_type": "stream",
     "text": [
      "230\n",
      "           Average     Error\n",
      "k2        1.621861  0.597447\n",
      "Estatic   0.889792  0.083284\n",
      "Edynamic  0.946237  0.023857\n"
     ]
    }
   ],
   "source": [
    "for cutoff in cutoffs:\n",
    "    FRET = FRETpredict(u, residues = [1,12], temperature = 298, \n",
    "                libname_1='Alexa 488 {:d}cutoff 3step'.format(cutoff),\n",
    "                libname_2='Alexa 594 {:d}cutoff 3step'.format(cutoff))\n",
    "    FRET.run(output_prefix='pp11/old{:d}pp11_res'.format(cutoff))"
   ]
  },
  {
   "cell_type": "code",
   "execution_count": 6,
   "metadata": {},
   "outputs": [
    {
     "name": "stdout",
     "output_type": "stream",
     "text": [
      "316\n",
      "           Average     Error\n",
      "k2        0.604245  0.015152\n",
      "Estatic   0.652061  0.042828\n",
      "Edynamic  0.792057  0.040911\n",
      "316\n",
      "           Average     Error\n",
      "k2        0.618203  0.030064\n",
      "Estatic   0.674858  0.045483\n",
      "Edynamic  0.813787  0.043318\n",
      "316\n",
      "           Average     Error\n",
      "k2        0.614006  0.039306\n",
      "Estatic   0.664929  0.048757\n",
      "Edynamic  0.806686  0.046190\n",
      "316\n",
      "           Average     Error\n",
      "k2        0.618472  0.058670\n",
      "Estatic   0.646624  0.050998\n",
      "Edynamic  0.795688  0.048732\n",
      "316\n",
      "           Average     Error\n",
      "k2        0.666986  0.125203\n",
      "Estatic   0.768166  0.064146\n",
      "Edynamic  0.914197  0.035211\n"
     ]
    }
   ],
   "source": [
    "for cutoff in cutoffs:\n",
    "    FRET = FRETpredict(u, residues = [1,12], temperature = 298, \n",
    "                libname_1='A48 C1R {:d}'.format(cutoff),\n",
    "                libname_2='A59 C1R {:d}'.format(cutoff))\n",
    "    FRET.run(output_prefix='pp11/{:d}pp11_o_res'.format(cutoff))"
   ]
  },
  {
   "cell_type": "code",
   "execution_count": 20,
   "metadata": {},
   "outputs": [],
   "source": [
    "k2 = np.empty(0)\n",
    "Estatic = np.empty(0)\n",
    "Edynamic = np.empty(0)\n",
    "k2_err = np.empty(0)\n",
    "Estatic_err = np.empty(0)\n",
    "Edynamic_err = np.empty(0)\n",
    "for cutoff in cutoffs:\n",
    "    df = pd.read_pickle('pp11/old{:d}pp11_res-weightedAvgStd-{:d}-{:d}.dat'.format(cutoff,1,12))\n",
    "    k2 = np.append(k2,df.loc['k2','Average'])\n",
    "    Estatic = np.append(Estatic,df.loc['Estatic','Average'])\n",
    "    Edynamic = np.append(Edynamic,df.loc['Edynamic','Average'])\n",
    "    k2_err = np.append(k2_err,df.loc['k2','Error'])\n",
    "    Estatic_err = np.append(Estatic_err,df.loc['Estatic','Error'])\n",
    "    Edynamic_err = np.append(Edynamic_err,df.loc['Edynamic','Error'])"
   ]
  },
  {
   "cell_type": "code",
   "execution_count": 21,
   "metadata": {},
   "outputs": [],
   "source": [
    "k2_new = np.empty(0)\n",
    "Estatic_new = np.empty(0)\n",
    "Edynamic_new = np.empty(0)\n",
    "k2_new_err = np.empty(0)\n",
    "Estatic_new_err = np.empty(0)\n",
    "Edynamic_new_err = np.empty(0)\n",
    "for cutoff in cutoffs:\n",
    "    df = pd.read_pickle('pp11/{:d}pp11_o_res-weightedAvgStd-{:d}-{:d}.dat'.format(cutoff,1,12))\n",
    "    k2_new = np.append(k2_new,df.loc['k2','Average'])\n",
    "    Estatic_new = np.append(Estatic_new,df.loc['Estatic','Average'])\n",
    "    Edynamic_new = np.append(Edynamic_new,df.loc['Edynamic','Average'])\n",
    "    k2_new_err = np.append(k2_new_err,df.loc['k2','Error'])\n",
    "    Estatic_new_err = np.append(Estatic_new_err,df.loc['Estatic','Error'])\n",
    "    Edynamic_new_err = np.append(Edynamic_new_err,df.loc['Edynamic','Error'])"
   ]
  },
  {
   "cell_type": "code",
   "execution_count": 22,
   "metadata": {},
   "outputs": [],
   "source": [
    "plt.rc('font', **{'family':'sans-serif','sans-serif':['Arial'], 'size': 9})"
   ]
  },
  {
   "cell_type": "code",
   "execution_count": 23,
   "metadata": {},
   "outputs": [
    {
     "data": {
      "image/png": "[encoded data removed]",
      "text/plain": [
       "<Figure size 374.4x180 with 2 Axes>"
      ]
     },
     "metadata": {
      "needs_background": "light"
     },
     "output_type": "display_data"
    }
   ],
   "source": [
    "fig, (ax1,ax2) = plt.subplots(1, 2, sharex=False, sharey=False, figsize=(5.2,2.5))\n",
    "\n",
    "ax1.errorbar(x=cutoffs, y=Estatic, yerr=Estatic_err, lw=1, marker='o', \n",
    "             ms=6, elinewidth=1.5, capsize=6, capthick=1.5, label='Static')\n",
    "ax1.errorbar(x=cutoffs, y=Edynamic, yerr=Edynamic_err, lw=1, marker='o', \n",
    "             ms=6, elinewidth=1.5, capsize=6, capthick=1.5, label='Dynamic')\n",
    "\n",
    "ax2.errorbar(x=cutoffs, y=Estatic_new, yerr=Estatic_new_err, lw=1, marker='o', \n",
    "             ms=6, elinewidth=1.5, capsize=6, capthick=1.5, label='Static',color=plt.cm.tab10(0))\n",
    "ax2.errorbar(x=cutoffs, y=Edynamic_new, yerr=Edynamic_new_err, lw=1, marker='o', \n",
    "             ms=6, elinewidth=1.5, capsize=6, capthick=1.5, label='Dynamic',color=plt.cm.tab10(1))\n",
    "\n",
    "ax1.hlines(0.87,cutoffs.min(),cutoffs.max(),ls=':',label='Experiment')\n",
    "ax2.hlines(0.87,cutoffs.min(),cutoffs.max(),ls=':',label='Experiment')\n",
    "\n",
    "\n",
    "for ax in [ax1,ax2]:\n",
    "    ax.set_ylabel('Efficiency')\n",
    "    ax.set_xlabel('Cutoff')\n",
    "    ax.legend(frameon=False)\n",
    "    ax.set_ylim(.5,1.2)\n",
    "    \n",
    "ax1.set_title('Original')   \n",
    "ax2.set_title('New')\n",
    "ax2.yaxis.set_label_position('right')\n",
    "ax2.yaxis.set_ticks_position('right')\n",
    "plt.tight_layout(w_pad=.5)\n",
    "plt.savefig('pp11/E.pdf')"
   ]
  },
  {
   "cell_type": "code",
   "execution_count": 24,
   "metadata": {},
   "outputs": [
    {
     "data": {
      "image/png": "[encoded data removed]",
      "text/plain": [
       "<Figure size 374.4x180 with 1 Axes>"
      ]
     },
     "metadata": {
      "needs_background": "light"
     },
     "output_type": "display_data"
    }
   ],
   "source": [
    "plt.figure(figsize=(5.2,2.5))\n",
    "\n",
    "plt.errorbar(x=cutoffs, y=k2, yerr=k2_err, lw=1, marker='o', \n",
    "             ms=6, elinewidth=1.5, capsize=6, capthick=1.5, label='Original Library')\n",
    "plt.errorbar(x=cutoffs, y=k2_new, yerr=k2_new_err, lw=1, marker='o', \n",
    "             ms=6, elinewidth=1.5, capsize=6, capthick=1.5, label='New Library',color=plt.cm.tab10(3))\n",
    "plt.hlines(2/3,cutoffs.min(),cutoffs.max(),ls=':',label='Isotropic')\n",
    "plt.ylabel(r'$\\langle k^2 \\rangle$')\n",
    "plt.xlabel('Cutoff')\n",
    "plt.legend(frameon=False)\n",
    "plt.savefig('pp11/k2.pdf')"
   ]
  },
  {
   "cell_type": "code",
   "execution_count": 25,
   "metadata": {},
   "outputs": [
    {
     "data": {
      "image/png": "[encoded data removed]",
      "text/plain": [
       "<Figure size 374.4x216 with 2 Axes>"
      ]
     },
     "metadata": {
      "needs_background": "light"
     },
     "output_type": "display_data"
    }
   ],
   "source": [
    "def pk2(x):\n",
    "    y1 = 1/2/np.sqrt(3*x[x<1])*np.log(2+np.sqrt(3))\n",
    "    y2 = 1/2/np.sqrt(3*x[x>=1])*(np.log(2+np.sqrt(3))-np.log(np.sqrt(x[x>=1])+np.sqrt(x[x>=1]-1)))\n",
    "    return np.append(y1,y2)\n",
    "\n",
    "fig, (ax1,ax2) = plt.subplots(1, 2, sharex=False, sharey=False, figsize=(5.2,3))\n",
    "\n",
    "\n",
    "for cutoff in cutoffs:\n",
    "    x,y = np.loadtxt('pp11/old{:d}pp11_res-allk2-{:d}-{:d}.dat'.format(cutoff,1,12),unpack=True)\n",
    "    ax1.plot(x,y,label='Cutoff {:d}'.format(cutoff))\n",
    "    \n",
    "for cutoff in cutoffs:\n",
    "    x,y = np.loadtxt('pp11/{:d}pp11_o_res-allk2-{:d}-{:d}.dat'.format(cutoff,1,12),unpack=True)\n",
    "    ax2.plot(x,y,label='Cutoff {:d}'.format(cutoff))\n",
    "    \n",
    "    \n",
    "for ax in [ax1,ax2]:\n",
    "    ax.plot(np.linspace(1e-5,4,100),pk2(np.linspace(1e-5,4,100)),lw=2,color='k',label='Isotropic')\n",
    "    ax.hlines(0.87,cutoffs.min(),cutoffs.max(),ls=':',label='Experiment')\n",
    "    ax.set_ylabel(r'$P(k^2)$')\n",
    "    ax.set_xlabel('$k^2$')\n",
    "    ax.legend(frameon=False)\n",
    "    ax.set_ylim(0,1)\n",
    "    ax.set_xlim(0,4)\n",
    "\n",
    "ax1.set_title('Original')   \n",
    "ax2.set_title('New')\n",
    "ax2.yaxis.set_label_position('right')\n",
    "ax2.yaxis.set_ticks_position('right')\n",
    "plt.tight_layout(w_pad=.5)\n",
    "plt.savefig('pp11/Pk2.pdf')"
   ]
  },
  {
   "cell_type": "code",
   "execution_count": null,
   "metadata": {},
   "outputs": [],
   "source": []
  }
 ],
 "metadata": {
  "kernelspec": {
   "display_name": "Python 3",
   "language": "python",
   "name": "python3"
  },
  "language_info": {
   "codemirror_mode": {
    "name": "ipython",
    "version": 3
   },
   "file_extension": ".py",
   "mimetype": "text/x-python",
   "name": "python",
   "nbconvert_exporter": "python",
   "pygments_lexer": "ipython3",
   "version": "3.7.6"
  }
 },
 "nbformat": 4,
 "nbformat_minor": 4
}
