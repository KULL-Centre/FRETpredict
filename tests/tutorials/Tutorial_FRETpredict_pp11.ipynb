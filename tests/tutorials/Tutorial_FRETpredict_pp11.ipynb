{
 "cells": [
  {
   "cell_type": "markdown",
   "id": "d05f6403",
   "metadata": {},
   "source": [
    "# FRETpredict tutorial (pp11)"
   ]
  },
  {
   "cell_type": "code",
   "execution_count": 31,
   "id": "8f0eaeed",
   "metadata": {},
   "outputs": [],
   "source": [
    "import MDAnalysis\n",
    "import numpy as np\n",
    "import os\n",
    "import pandas as pd\n",
    "import pickle\n",
    "import yaml\n",
    "from FRETpredict import FRETpredict\n",
    "import warnings\n",
    "\n",
    "warnings.filterwarnings('ignore')"
   ]
  },
  {
   "cell_type": "markdown",
   "id": "89d3e848",
   "metadata": {},
   "source": [
    "### Quick biological background"
   ]
  },
  {
   "cell_type": "markdown",
   "id": "c773bea2",
   "metadata": {},
   "source": [
    "Polyproline 11 (pp11) has been described as behaving like a rigid rod, and was used as a \"spectroscopic ruler\" in the seminal paper by Stryer and Haugland. The pp11 system is a classical example of the importance of comparing molecular models with FRET data."
   ]
  },
  {
   "cell_type": "markdown",
   "id": "d8cbcb0b",
   "metadata": {},
   "source": [
    "![title](pp11_structure.png)"
   ]
  },
  {
   "cell_type": "markdown",
   "id": "ce1fd0a4",
   "metadata": {},
   "source": [
    "We will perform FRET Efficiency calculations placing the rotamer libraries on the extremal residues.<br>\n",
    "<br>First, let's have a look at the possible rotamer libraries we can use and how they're called."
   ]
  },
  {
   "cell_type": "markdown",
   "id": "a5615f50",
   "metadata": {},
   "source": [
    "### Rotamer library"
   ]
  },
  {
   "cell_type": "code",
   "execution_count": 2,
   "id": "1160a971",
   "metadata": {},
   "outputs": [],
   "source": [
    "with open('../../FRETpredict/lib/libraries.yml') as f:\n",
    "    libraries = yaml.load(f, Loader=yaml.FullLoader)\n",
    "#libraries"
   ]
  },
  {
   "cell_type": "markdown",
   "id": "6022f912",
   "metadata": {},
   "source": [
    "Every Rotamer Library name is composed of three parts: the manufacturer (AlexaFluor, ATTO, Lumiprobe), the peak wavelength (e.g. 488, 550, 647), and the linker that connects the dye to the protein (C1R, C2R, C3R, L1R, L2R, B1R).<br>\n",
    "<br>To learn more about rotamer libraries, see __[`Tutorial_generate_new_rotamer_libraries`](https://github.com/Monte95/FRETpredict/blob/50ad48c7f2df4fc0aaca52158eb349cc82e4e2c1/tests/tutorials/Tutorial_generate_new_rotamer_libraries.ipynb)__."
   ]
  },
  {
   "cell_type": "markdown",
   "id": "f7852f2e",
   "metadata": {},
   "source": [
    "### FRET efficiency calculation"
   ]
  },
  {
   "cell_type": "markdown",
   "id": "ff2d7ef0",
   "metadata": {},
   "source": [
    "Now, we will select the parameters for the FRET Efficiency calculation: \n",
    "- The `residues` to place the rotamer libraries on and their protein `chain`\n",
    "For this tutorial we're going to use the first and the last residues of the pp11 chain. \n",
    "\n",
    "- The rotamer libraries we will use: AlexaFluor dyes 488 and 594, with C1R linkers.\n",
    "`donor` and `acceptor` are used for R0 calculations, while `libname_1` and `libname_2` for the FRET Efficiency calculation. `r0lib` is the path to the dyes files (by default set to `lib/R0/`).\n",
    "- The Universe object for the `protein` structure.\n",
    "- `electrostatic` calculations will be enabled, and the `temperature` will be set at 298K."
   ]
  },
  {
   "cell_type": "code",
   "execution_count": 3,
   "id": "6fc11f8b",
   "metadata": {},
   "outputs": [],
   "source": [
    "# Experimental FRET efficiency value to compare our results\n",
    "Ex = 0.88\n",
    "\n",
    "# Create MDAnalysis.Universe object for the protein \n",
    "u = MDAnalysis.Universe('../test_systems/pp11/pp11.pdb', '../test_systems/pp11/pp11.xtc')"
   ]
  },
  {
   "cell_type": "markdown",
   "id": "94cb7928",
   "metadata": {},
   "source": [
    "Let's create an instance of the FRETpredict class."
   ]
  },
  {
   "cell_type": "code",
   "execution_count": 4,
   "id": "b2b5f89d",
   "metadata": {},
   "outputs": [],
   "source": [
    "FRET = FRETpredict(protein=u, residues=[0, 12], temperature=298, \n",
    "                   chains=['A', 'A'], electrostatic=True,\n",
    "                   donor='AlexaFluor 488', acceptor='AlexaFluor 594', \n",
    "                   libname_1='AlexaFluor 488 C1R cutoff10',\n",
    "                   libname_2='AlexaFluor 594 C1R cutoff10',\n",
    "                   output_prefix='test/E_pp11_10')"
   ]
  },
  {
   "cell_type": "markdown",
   "id": "744de18d",
   "metadata": {},
   "source": [
    "Run FRET efficiency calculations."
   ]
  },
  {
   "cell_type": "code",
   "execution_count": 5,
   "id": "7f7c63ed",
   "metadata": {
    "scrolled": true
   },
   "outputs": [
    {
     "name": "stdout",
     "output_type": "stream",
     "text": [
      "1/316-2/316-3/316-4/316-5/316-6/316-7/316-8/316-9/316-10/316-11/316-12/316-13/316-14/316-15/316-16/316-17/316-18/316-19/316-20/316-21/316-22/316-23/316-24/316-25/316-26/316-27/316-28/316-29/316-30/316-31/316-32/316-33/316-34/316-35/316-36/316-37/316-38/316-39/316-40/316-41/316-42/316-43/316-44/316-45/316-46/316-47/316-48/316-49/316-50/316-51/316-52/316-53/316-54/316-55/316-56/316-57/316-58/316-59/316-60/316-61/316-62/316-63/316-64/316-65/316-66/316-67/316-68/316-69/316-70/316-71/316-72/316-73/316-74/316-75/316-76/316-77/316-78/316-79/316-80/316-81/316-82/316-83/316-84/316-85/316-86/316-87/316-88/316-89/316-90/316-91/316-92/316-93/316-94/316-95/316-96/316-97/316-98/316-99/316-100/316-101/316-102/316-103/316-104/316-105/316-106/316-107/316-108/316-109/316-110/316-111/316-112/316-113/316-114/316-115/316-116/316-117/316-118/316-119/316-120/316-121/316-122/316-123/316-124/316-125/316-126/316-127/316-128/316-129/316-130/316-131/316-132/316-133/316-134/316-135/316-136/316-137/316-138/316-139/316-140/316-141/316-142/316-143/316-144/316-145/316-146/316-147/316-148/316-149/316-150/316-151/316-152/316-153/316-154/316-155/316-156/316-157/316-158/316-159/316-160/316-161/316-162/316-163/316-164/316-165/316-166/316-167/316-168/316-169/316-170/316-171/316-172/316-173/316-174/316-175/316-176/316-177/316-178/316-179/316-180/316-181/316-182/316-183/316-184/316-185/316-186/316-187/316-188/316-189/316-190/316-191/316-192/316-193/316-194/316-195/316-196/316-197/316-198/316-199/316-200/316-201/316-202/316-203/316-204/316-205/316-206/316-207/316-208/316-209/316-210/316-211/316-212/316-213/316-214/316-215/316-216/316-217/316-218/316-219/316-220/316-221/316-222/316-223/316-224/316-225/316-226/316-227/316-228/316-229/316-230/316-231/316-232/316-233/316-234/316-235/316-236/316-237/316-238/316-239/316-240/316-241/316-242/316-243/316-244/316-245/316-246/316-247/316-248/316-249/316-250/316-251/316-252/316-253/316-254/316-255/316-256/316-257/316-258/316-259/316-260/316-261/316-262/316-263/316-264/316-265/316-266/316-267/316-268/316-269/316-270/316-271/316-272/316-273/316-274/316-275/316-276/316-277/316-278/316-279/316-280/316-281/316-282/316-283/316-284/316-285/316-286/316-287/316-288/316-289/316-290/316-291/316-292/316-293/316-294/316-295/316-296/316-297/316-298/316-299/316-300/316-301/316-302/316-303/316-304/316-305/316-306/316-307/316-308/316-309/316-310/316-311/316-312/316-313/316-314/316-315/316-316/316-Effective fraction of frames contributing to average: 0.9728538434331249\n",
      "\n",
      "Done.\n"
     ]
    }
   ],
   "source": [
    "FRET.run()"
   ]
  },
  {
   "cell_type": "markdown",
   "id": "cace0434",
   "metadata": {},
   "source": [
    "Save the FRETpredict object to `pickle` file for future use."
   ]
  },
  {
   "cell_type": "code",
   "execution_count": 6,
   "id": "3eef8f05",
   "metadata": {},
   "outputs": [
    {
     "name": "stdout",
     "output_type": "stream",
     "text": [
      "Object successfully saved to \"FRET_pp11_obj.pkl\"\n"
     ]
    }
   ],
   "source": [
    "with open('test/FRET_pp11_obj.pkl', 'wb') as file:\n",
    "    \n",
    "    pickle.dump(FRET, file)\n",
    "    \n",
    "    print('Object successfully saved to \"FRET_pp11_obj.pkl\"')"
   ]
  },
  {
   "cell_type": "markdown",
   "id": "9067bd39",
   "metadata": {},
   "source": [
    "Create DataFrame of the data (experimental and predicted) and show the results."
   ]
  },
  {
   "cell_type": "code",
   "execution_count": 24,
   "id": "3845e162",
   "metadata": {},
   "outputs": [
    {
     "data": {
      "text/html": [
       "<div>\n",
       "<style scoped>\n",
       "    .dataframe tbody tr th:only-of-type {\n",
       "        vertical-align: middle;\n",
       "    }\n",
       "\n",
       "    .dataframe tbody tr th {\n",
       "        vertical-align: top;\n",
       "    }\n",
       "\n",
       "    .dataframe thead th {\n",
       "        text-align: right;\n",
       "    }\n",
       "</style>\n",
       "<table border=\"1\" class=\"dataframe\">\n",
       "  <thead>\n",
       "    <tr style=\"text-align: right;\">\n",
       "      <th></th>\n",
       "      <th>res</th>\n",
       "      <th>chromophore</th>\n",
       "      <th>cutoff</th>\n",
       "      <th>k2</th>\n",
       "      <th>Ex</th>\n",
       "      <th>Es</th>\n",
       "      <th>Ed</th>\n",
       "      <th>Ed2</th>\n",
       "      <th>E_avg</th>\n",
       "    </tr>\n",
       "  </thead>\n",
       "  <tbody>\n",
       "    <tr>\n",
       "      <th>Calc. R0</th>\n",
       "      <td>1-13</td>\n",
       "      <td>AlexaFluor 488 C1R - AlexaFluor 594 C1R</td>\n",
       "      <td>10</td>\n",
       "      <td>0.684587</td>\n",
       "      <td>0.88</td>\n",
       "      <td>0.731976</td>\n",
       "      <td>0.876376</td>\n",
       "      <td>0.993194</td>\n",
       "      <td>0.867182</td>\n",
       "    </tr>\n",
       "  </tbody>\n",
       "</table>\n",
       "</div>"
      ],
      "text/plain": [
       "           res                               chromophore  cutoff        k2  \\\n",
       "Calc. R0  1-13  AlexaFluor 488 C1R - AlexaFluor 594 C1R       10  0.684587   \n",
       "\n",
       "            Ex        Es        Ed       Ed2     E_avg  \n",
       "Calc. R0  0.88  0.731976  0.876376  0.993194  0.867182  "
      ]
     },
     "execution_count": 24,
     "metadata": {},
     "output_type": "execute_result"
    }
   ],
   "source": [
    "results = []\n",
    "\n",
    "data = pd.read_pickle('test/E_pp11_10-data-0-12.pkl')\n",
    "\n",
    "E_avg = np.mean([float(data.loc['Estatic', 'Average']), \n",
    "                 float(data.loc['Edynamic1', 'Average']),\n",
    "                 float(data.loc['Edynamic2', 'Average'])])\n",
    "\n",
    "results.append({'res': '1-13',\n",
    "                'chromophore': 'AlexaFluor 488 C1R - AlexaFluor 594 C1R ',\n",
    "                'cutoff' : 10,\n",
    "                'k2': float(data.loc['k2', 'Average']),\n",
    "                'Ex': Ex, \n",
    "                'Es': float(data.loc['Estatic', 'Average']),\n",
    "                'Ed': float(data.loc['Edynamic1', 'Average']),\n",
    "                'Ed2': float(data.loc['Edynamic2', 'Average']), \n",
    "                'E_avg': E_avg})\n",
    "    \n",
    "# Save data\n",
    "np.save('test/results_pp11.npy', results)\n",
    "\n",
    "# Display results\n",
    "results_pp11_df = pd.DataFrame(results,index=['Calc. R0'])\n",
    "results_pp11_df"
   ]
  },
  {
   "cell_type": "markdown",
   "id": "00f31a17",
   "metadata": {},
   "source": [
    "## R0 calculation"
   ]
  },
  {
   "cell_type": "markdown",
   "id": "c5e420a0",
   "metadata": {},
   "source": [
    "It is possible to select the R0 calculation method for the FRET Efficiency calculation.<br>\n",
    "<br>By default (as done with the previous example), R0 is calculated for the provided dyes pair (`donor` and `acceptor`) for every rotamer conformation, taking the relative orientation into account.<br>\n",
    "<br>However, it is possible to select a fixed R0 value. The only change is in the parameters passed to FRETpredict.<br>\n",
    "<br>Let's see how it's done."
   ]
  },
  {
   "cell_type": "code",
   "execution_count": 8,
   "id": "5d5e9580",
   "metadata": {},
   "outputs": [],
   "source": [
    "FRET_fixedR0 = FRETpredict(protein=u, residues=[0, 12], temperature=298, \n",
    "                           chains=['A', 'A'], \n",
    "                           fixed_R0=True, r0=5.68, electrostatic=True,\n",
    "                           libname_1='AlexaFluor 488 C1R cutoff10',\n",
    "                           libname_2='AlexaFluor 594 C1R cutoff10', \n",
    "                           output_prefix='test/E_pp11_10_fixedR0')"
   ]
  },
  {
   "cell_type": "markdown",
   "id": "79e04d0e",
   "metadata": {},
   "source": [
    "We set `fixed_R0=True` and passed to the `r0` parameter the selected R0 value. __[`lib/R0/R0_pairs.csv`](https://github.com/Monte95/FRETpredict/blob/ce327c60cf5f86a33251b2e0c60cf1f668bc46e2/FRETpredict/lib/R0/R0_pairs.csv)__ reports the R0 values for many dye pairs.<br>\n",
    "<br>Otherwise, if the R0 value is not present in the file, online services as __[FPBase](https://www.fpbase.org/fret/)__ can be used to obtain it."
   ]
  },
  {
   "cell_type": "markdown",
   "id": "7d6b996e",
   "metadata": {},
   "source": [
    "Now let's run FRET Efficiency calculations."
   ]
  },
  {
   "cell_type": "code",
   "execution_count": 9,
   "id": "847dcdc1",
   "metadata": {
    "scrolled": true
   },
   "outputs": [
    {
     "name": "stdout",
     "output_type": "stream",
     "text": [
      "1/316-2/316-3/316-4/316-5/316-6/316-7/316-8/316-9/316-10/316-11/316-12/316-13/316-14/316-15/316-16/316-17/316-18/316-19/316-20/316-21/316-22/316-23/316-24/316-25/316-26/316-27/316-28/316-29/316-30/316-31/316-32/316-33/316-34/316-35/316-36/316-37/316-38/316-39/316-40/316-41/316-42/316-43/316-44/316-45/316-46/316-47/316-48/316-49/316-50/316-51/316-52/316-53/316-54/316-55/316-56/316-57/316-58/316-59/316-60/316-61/316-62/316-63/316-64/316-65/316-66/316-67/316-68/316-69/316-70/316-71/316-72/316-73/316-74/316-75/316-76/316-77/316-78/316-79/316-80/316-81/316-82/316-83/316-84/316-85/316-86/316-87/316-88/316-89/316-90/316-91/316-92/316-93/316-94/316-95/316-96/316-97/316-98/316-99/316-100/316-101/316-102/316-103/316-104/316-105/316-106/316-107/316-108/316-109/316-110/316-111/316-112/316-113/316-114/316-115/316-116/316-117/316-118/316-119/316-120/316-121/316-122/316-123/316-124/316-125/316-126/316-127/316-128/316-129/316-130/316-131/316-132/316-133/316-134/316-135/316-136/316-137/316-138/316-139/316-140/316-141/316-142/316-143/316-144/316-145/316-146/316-147/316-148/316-149/316-150/316-151/316-152/316-153/316-154/316-155/316-156/316-157/316-158/316-159/316-160/316-161/316-162/316-163/316-164/316-165/316-166/316-167/316-168/316-169/316-170/316-171/316-172/316-173/316-174/316-175/316-176/316-177/316-178/316-179/316-180/316-181/316-182/316-183/316-184/316-185/316-186/316-187/316-188/316-189/316-190/316-191/316-192/316-193/316-194/316-195/316-196/316-197/316-198/316-199/316-200/316-201/316-202/316-203/316-204/316-205/316-206/316-207/316-208/316-209/316-210/316-211/316-212/316-213/316-214/316-215/316-216/316-217/316-218/316-219/316-220/316-221/316-222/316-223/316-224/316-225/316-226/316-227/316-228/316-229/316-230/316-231/316-232/316-233/316-234/316-235/316-236/316-237/316-238/316-239/316-240/316-241/316-242/316-243/316-244/316-245/316-246/316-247/316-248/316-249/316-250/316-251/316-252/316-253/316-254/316-255/316-256/316-257/316-258/316-259/316-260/316-261/316-262/316-263/316-264/316-265/316-266/316-267/316-268/316-269/316-270/316-271/316-272/316-273/316-274/316-275/316-276/316-277/316-278/316-279/316-280/316-281/316-282/316-283/316-284/316-285/316-286/316-287/316-288/316-289/316-290/316-291/316-292/316-293/316-294/316-295/316-296/316-297/316-298/316-299/316-300/316-301/316-302/316-303/316-304/316-305/316-306/316-307/316-308/316-309/316-310/316-311/316-312/316-313/316-314/316-315/316-316/316-Effective fraction of frames contributing to average: 0.9728538434331249\n",
      "\n",
      "Done.\n"
     ]
    }
   ],
   "source": [
    "FRET_fixedR0.run()"
   ]
  },
  {
   "cell_type": "markdown",
   "id": "46909d67",
   "metadata": {},
   "source": [
    "Save the FRETpredict object to `pickle` file for future use."
   ]
  },
  {
   "cell_type": "code",
   "execution_count": 10,
   "id": "e2f9cb96",
   "metadata": {},
   "outputs": [
    {
     "name": "stdout",
     "output_type": "stream",
     "text": [
      "Object successfully saved to \"FRET_pp11_fixedR0_obj.pkl\"\n"
     ]
    }
   ],
   "source": [
    "with open('test/FRET_pp11_fixedR0_obj.pkl', 'wb') as file:\n",
    "    \n",
    "    pickle.dump(FRET, file)\n",
    "    \n",
    "    print('Object successfully saved to \"FRET_pp11_fixedR0_obj.pkl\"')"
   ]
  },
  {
   "cell_type": "markdown",
   "id": "7647f5c2",
   "metadata": {},
   "source": [
    "Create DataFrame of the data (experimental and predicted) and show the results."
   ]
  },
  {
   "cell_type": "code",
   "execution_count": 25,
   "id": "e4f7a63b",
   "metadata": {},
   "outputs": [
    {
     "data": {
      "text/html": [
       "<div>\n",
       "<style scoped>\n",
       "    .dataframe tbody tr th:only-of-type {\n",
       "        vertical-align: middle;\n",
       "    }\n",
       "\n",
       "    .dataframe tbody tr th {\n",
       "        vertical-align: top;\n",
       "    }\n",
       "\n",
       "    .dataframe thead th {\n",
       "        text-align: right;\n",
       "    }\n",
       "</style>\n",
       "<table border=\"1\" class=\"dataframe\">\n",
       "  <thead>\n",
       "    <tr style=\"text-align: right;\">\n",
       "      <th></th>\n",
       "      <th>res</th>\n",
       "      <th>chromophore</th>\n",
       "      <th>cutoff</th>\n",
       "      <th>k2</th>\n",
       "      <th>Ex</th>\n",
       "      <th>Es</th>\n",
       "      <th>Ed</th>\n",
       "      <th>Ed2</th>\n",
       "      <th>E_avg</th>\n",
       "    </tr>\n",
       "  </thead>\n",
       "  <tbody>\n",
       "    <tr>\n",
       "      <th>Calc. R0</th>\n",
       "      <td>1-13</td>\n",
       "      <td>AlexaFluor 488 C1R - AlexaFluor 594 C1R</td>\n",
       "      <td>10</td>\n",
       "      <td>0.684587</td>\n",
       "      <td>0.88</td>\n",
       "      <td>0.731976</td>\n",
       "      <td>0.876376</td>\n",
       "      <td>0.993194</td>\n",
       "      <td>0.867182</td>\n",
       "    </tr>\n",
       "    <tr>\n",
       "      <th>Fixed R0</th>\n",
       "      <td>1-13</td>\n",
       "      <td>Fixed R0 AlexaFluor 488 C1R - AlexaFluor 594 C1R</td>\n",
       "      <td>10</td>\n",
       "      <td>0.684587</td>\n",
       "      <td>0.88</td>\n",
       "      <td>0.729104</td>\n",
       "      <td>0.874128</td>\n",
       "      <td>0.992961</td>\n",
       "      <td>0.865398</td>\n",
       "    </tr>\n",
       "  </tbody>\n",
       "</table>\n",
       "</div>"
      ],
      "text/plain": [
       "           res                                        chromophore  cutoff  \\\n",
       "Calc. R0  1-13           AlexaFluor 488 C1R - AlexaFluor 594 C1R       10   \n",
       "Fixed R0  1-13  Fixed R0 AlexaFluor 488 C1R - AlexaFluor 594 C1R       10   \n",
       "\n",
       "                k2    Ex        Es        Ed       Ed2     E_avg  \n",
       "Calc. R0  0.684587  0.88  0.731976  0.876376  0.993194  0.867182  \n",
       "Fixed R0  0.684587  0.88  0.729104  0.874128  0.992961  0.865398  "
      ]
     },
     "execution_count": 25,
     "metadata": {},
     "output_type": "execute_result"
    }
   ],
   "source": [
    "results_fixedR0 = []\n",
    "\n",
    "data = pd.read_pickle('test/E_pp11_10_fixedR0-data-0-12.pkl')\n",
    "\n",
    "E_avg = np.mean([float(data.loc['Estatic', 'Average']), \n",
    "                 float(data.loc['Edynamic1', 'Average']),\n",
    "                 float(data.loc['Edynamic2', 'Average'])])\n",
    "\n",
    "results_fixedR0.append({'res': '1-13',\n",
    "                        'chromophore': 'Fixed R0 AlexaFluor 488 C1R - AlexaFluor 594 C1R ',\n",
    "                        'cutoff' : 10,\n",
    "                        'k2': float(data.loc['k2', 'Average']),\n",
    "                        'Ex': Ex, \n",
    "                        'Es': float(data.loc['Estatic', 'Average']),\n",
    "                        'Ed': float(data.loc['Edynamic1', 'Average']),\n",
    "                        'Ed2': float(data.loc['Edynamic2', 'Average']), \n",
    "                        'E_avg': E_avg})\n",
    "    \n",
    "# Save data\n",
    "np.save('test/results_fixedR0.npy', results_fixedR0)\n",
    "\n",
    "# Display results and compare with previous case\n",
    "results_fixedR0_df = pd.DataFrame(results_fixedR0, index=['Fixed R0'])\n",
    "pd.concat([results_pp11_df, results_fixedR0_df])"
   ]
  },
  {
   "cell_type": "markdown",
   "id": "d08d7fa6",
   "metadata": {},
   "source": [
    "## Reweighting"
   ]
  },
  {
   "cell_type": "markdown",
   "id": "94afcede",
   "metadata": {},
   "source": [
    "As you probably have noticed, at the end of its calculations `FRET.run()` prompted the `effective fraction of frames contributing to average: 0.9728538649554426`.\n",
    "\n",
    "This is an indication for the usefulness of reweighting the frames of the trajectory. Each frame is in fact assigned a weight $w_s$ based on dye-protein interactions obtained by multiplying the Boltzmann partition function $Z_{si}$ of the donor and acceptor for that frame.<br>\n",
    "\n",
    "$w_s = \\frac{Z_s}{\\sum_s (Z_s)}$, with $Z_s = Z_{s1} \\cdot Z_{s2}$. Weights are normalized such that $\\sum_s w_s = 1$.\n",
    "\n",
    "In this way, frames with many dye-protein steric clashes have a low weight.\n",
    "\n",
    "The effective fraction of frames contributing to average is thus computed as $\\phi_{eff} = \\exp(S)$ with $S = - \\sum_s w_s \\cdot \\ln(w_s)$"
   ]
  },
  {
   "cell_type": "markdown",
   "id": "b8ac5c8b",
   "metadata": {},
   "source": [
    "FRETpredict calculations are run by default with all $w_s = 1 /$num_frames."
   ]
  },
  {
   "cell_type": "markdown",
   "id": "4b20e367",
   "metadata": {},
   "source": [
    "Based on the $\\phi_{eff}$ value, one could decide to reweight the trajectory frames based on $w_s$. FRETpredict implement an easy-to-use reweighting approach."
   ]
  },
  {
   "cell_type": "code",
   "execution_count": 12,
   "id": "806e4b7a",
   "metadata": {},
   "outputs": [
    {
     "name": "stdout",
     "output_type": "stream",
     "text": [
      "Effective fraction of frames contributing to average: 0.9728538434331249\n"
     ]
    }
   ],
   "source": [
    "# REWEIGHTING\n",
    "FRET.reweight(reweight_prefix='test/E_pp11_10_reweighted')"
   ]
  },
  {
   "cell_type": "markdown",
   "id": "b65f9248",
   "metadata": {},
   "source": [
    "If you want to combine dye-protein interaction weights with weights obtained from different calculations (e.g, Enhanced sampling simulations) "
   ]
  },
  {
   "cell_type": "code",
   "execution_count": 13,
   "id": "69f85965",
   "metadata": {},
   "outputs": [
    {
     "name": "stdout",
     "output_type": "stream",
     "text": [
      "Effective fraction of frames contributing to average: 0.8012029686522127\n"
     ]
    }
   ],
   "source": [
    "user_weights_pp11 = np.load('test/user_weights.npy', allow_pickle=True)\n",
    "\n",
    "FRET.reweight(reweight_prefix='test/E_pp11_10_reweighted', user_weights=user_weights_pp11)"
   ]
  },
  {
   "cell_type": "markdown",
   "id": "1c782cc5",
   "metadata": {},
   "source": [
    "Otherwise, if you want to reweight a previously used trajectory"
   ]
  },
  {
   "cell_type": "code",
   "execution_count": 14,
   "id": "a6489d00",
   "metadata": {},
   "outputs": [
    {
     "name": "stdout",
     "output_type": "stream",
     "text": [
      "Object successfully loaded from \"FRET_pp11_obj.pkl\"\n"
     ]
    }
   ],
   "source": [
    "# Load FRETpredict object from pickle file\n",
    "with open('test/FRET_pp11_obj.pkl', 'rb') as file:\n",
    "    \n",
    "    FRET_file = pickle.load(file)\n",
    "    \n",
    "    print(f'Object successfully loaded from \"FRET_pp11_obj.pkl\"')"
   ]
  },
  {
   "cell_type": "code",
   "execution_count": 15,
   "id": "f2aa9a27",
   "metadata": {},
   "outputs": [
    {
     "name": "stdout",
     "output_type": "stream",
     "text": [
      "Effective fraction of frames contributing to average: 0.9728538434331249\n"
     ]
    }
   ],
   "source": [
    "# REWEIGHTING\n",
    "FRET_file.reweight(reweight_prefix='test/E_pp11_10_reweighted')"
   ]
  },
  {
   "cell_type": "markdown",
   "id": "36a4909c",
   "metadata": {},
   "source": [
    "If you want to use custom pre-computed weights and directly obtain the reweighted FRET efficiencies, you can pass the custom weights as a `numpy.array` to the FRETpredict class throught the `user_weights` parameter, and they will be automatically combined with the dye-protein interaction weights:"
   ]
  },
  {
   "cell_type": "code",
   "execution_count": 19,
   "id": "34b33929",
   "metadata": {},
   "outputs": [],
   "source": [
    "user_weights_pp11 = np.load('test/user_weights.npy')\n",
    "\n",
    "FRET = FRETpredict(protein=u, residues=[0, 12], temperature=298, \n",
    "                   chains=['A', 'A'], electrostatic=True,\n",
    "                   donor='AlexaFluor 488', acceptor='AlexaFluor 594', \n",
    "                   libname_1='AlexaFluor 488 C1R cutoff10',\n",
    "                   libname_2='AlexaFluor 594 C1R cutoff10',\n",
    "                   r0lib='../../FRETpredict/lib/R0/',\n",
    "                   user_weights=user_weights_pp11,\n",
    "                   output_prefix='test/E_pp11_10_reweighted')"
   ]
  },
  {
   "cell_type": "markdown",
   "id": "0919174e",
   "metadata": {},
   "source": [
    "Create the DataFrame of the data (experimental and predicted) and show the results."
   ]
  },
  {
   "cell_type": "code",
   "execution_count": 28,
   "id": "d30556ce",
   "metadata": {},
   "outputs": [
    {
     "data": {
      "text/html": [
       "<div>\n",
       "<style scoped>\n",
       "    .dataframe tbody tr th:only-of-type {\n",
       "        vertical-align: middle;\n",
       "    }\n",
       "\n",
       "    .dataframe tbody tr th {\n",
       "        vertical-align: top;\n",
       "    }\n",
       "\n",
       "    .dataframe thead th {\n",
       "        text-align: right;\n",
       "    }\n",
       "</style>\n",
       "<table border=\"1\" class=\"dataframe\">\n",
       "  <thead>\n",
       "    <tr style=\"text-align: right;\">\n",
       "      <th></th>\n",
       "      <th>res</th>\n",
       "      <th>chromophore</th>\n",
       "      <th>cutoff</th>\n",
       "      <th>k2</th>\n",
       "      <th>Ex</th>\n",
       "      <th>Es</th>\n",
       "      <th>Ed</th>\n",
       "      <th>Ed2</th>\n",
       "      <th>E_avg</th>\n",
       "    </tr>\n",
       "  </thead>\n",
       "  <tbody>\n",
       "    <tr>\n",
       "      <th>Calc. R0</th>\n",
       "      <td>1-13</td>\n",
       "      <td>AlexaFluor 488 C1R - AlexaFluor 594 C1R</td>\n",
       "      <td>10</td>\n",
       "      <td>0.684587</td>\n",
       "      <td>0.88</td>\n",
       "      <td>0.731976</td>\n",
       "      <td>0.876376</td>\n",
       "      <td>0.993194</td>\n",
       "      <td>0.867182</td>\n",
       "    </tr>\n",
       "    <tr>\n",
       "      <th>Reweighted</th>\n",
       "      <td>1-13</td>\n",
       "      <td>AlexaFluor 488 C1R - AlexaFluor 594 C1R</td>\n",
       "      <td>10</td>\n",
       "      <td>0.690553</td>\n",
       "      <td>0.88</td>\n",
       "      <td>0.736478</td>\n",
       "      <td>0.880143</td>\n",
       "      <td>0.993216</td>\n",
       "      <td>0.869946</td>\n",
       "    </tr>\n",
       "  </tbody>\n",
       "</table>\n",
       "</div>"
      ],
      "text/plain": [
       "             res                               chromophore  cutoff        k2  \\\n",
       "Calc. R0    1-13  AlexaFluor 488 C1R - AlexaFluor 594 C1R       10  0.684587   \n",
       "Reweighted  1-13  AlexaFluor 488 C1R - AlexaFluor 594 C1R       10  0.690553   \n",
       "\n",
       "              Ex        Es        Ed       Ed2     E_avg  \n",
       "Calc. R0    0.88  0.731976  0.876376  0.993194  0.867182  \n",
       "Reweighted  0.88  0.736478  0.880143  0.993216  0.869946  "
      ]
     },
     "execution_count": 28,
     "metadata": {},
     "output_type": "execute_result"
    }
   ],
   "source": [
    "results_ws = []\n",
    "\n",
    "data = pd.read_pickle('test/E_pp11_10_reweighted-data-0-12.pkl')\n",
    "    \n",
    "E_avg = np.mean([float(data.loc['Estatic', 'Average']), \n",
    "                 float(data.loc['Edynamic1', 'Average']),\n",
    "                 float(data.loc['Edynamic2', 'Average'])])\n",
    "\n",
    "results_ws.append({'res': '1-13',\n",
    "                   'chromophore': 'AlexaFluor 488 C1R - AlexaFluor 594 C1R ',\n",
    "                   'cutoff' : 10,\n",
    "                   'k2': float(data.loc['k2', 'Average']),\n",
    "                   'Ex': Ex,\n",
    "                   'Es': float(data.loc['Estatic', 'Average']),\n",
    "                   'Ed': float(data.loc['Edynamic1', 'Average']),\n",
    "                   'Ed2': float(data.loc['Edynamic2', 'Average']), \n",
    "                   'E_avg': E_avg,})\n",
    "\n",
    "# Save data\n",
    "np.save('test/results_pp11_ws.npy', results_ws)\n",
    "\n",
    "# Display results\n",
    "results_pp11_ws_df = pd.DataFrame(results_ws,index=['Reweighted'])\n",
    "pd.concat([results_pp11_df, results_pp11_ws_df])"
   ]
  },
  {
   "cell_type": "markdown",
   "id": "20d2de1c",
   "metadata": {},
   "source": [
    "In this case, with pp11 a small change is expected from the global weighting because the it is essentially rigid, and also the structure should already be \"adapted\" to the dyes. This is reflected in the hight percentage of frames contributing to the average (~97%)."
   ]
  },
  {
   "cell_type": "markdown",
   "id": "c0dae9a2",
   "metadata": {},
   "source": [
    "Reweighting is more useful when this percentage is lower, as it is usually the case for Intrinsically Disordered Proteins (see the FRETpredict paper https://doi.org/10.1101/2023.01.27.525885)."
   ]
  },
  {
   "cell_type": "code",
   "execution_count": null,
   "id": "6f45e2e8",
   "metadata": {},
   "outputs": [],
   "source": []
  }
 ],
 "metadata": {
  "kernelspec": {
   "display_name": "Python 3 (ipykernel)",
   "language": "python",
   "name": "python3"
  },
  "language_info": {
   "codemirror_mode": {
    "name": "ipython",
    "version": 3
   },
   "file_extension": ".py",
   "mimetype": "text/x-python",
   "name": "python",
   "nbconvert_exporter": "python",
   "pygments_lexer": "ipython3",
   "version": "3.8.16"
  }
 },
 "nbformat": 4,
 "nbformat_minor": 5
}
